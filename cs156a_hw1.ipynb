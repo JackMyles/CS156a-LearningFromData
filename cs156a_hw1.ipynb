{
  "cells": [
    {
      "cell_type": "markdown",
      "metadata": {
        "id": "view-in-github",
        "colab_type": "text"
      },
      "source": [
        "<a href=\"https://colab.research.google.com/github/JackMyles/CS156a-LearningFromData/blob/main/cs156a_hw1.ipynb\" target=\"_parent\"><img src=\"https://colab.research.google.com/assets/colab-badge.svg\" alt=\"Open In Colab\"/></a>"
      ]
    },
    {
      "cell_type": "markdown",
      "id": "8b97fa59-f566-486a-a4d7-5dc7b81deb74",
      "metadata": {
        "id": "8b97fa59-f566-486a-a4d7-5dc7b81deb74"
      },
      "source": [
        "# CS 156a HW 1"
      ]
    },
    {
      "cell_type": "markdown",
      "id": "ced345f0-b9ae-4ca2-9f10-c36a6030194a",
      "metadata": {
        "id": "ced345f0-b9ae-4ca2-9f10-c36a6030194a"
      },
      "source": [
        "#### 1. What types of Machine Learning, if any, best describe the following three scenarios:\n",
        "\n",
        "(i) A coin classification system is created for a vending machine. The developers obtain exact coin specifications from the U.S. Mint and derive a statistical model of the size, weight, and denomination, which the vending machine then uses to classify coins.\n",
        "\n",
        "(ii) Instead of calling the U.S. Mint to obtain coin information, an algorithm is presented with a large set of labeled coins. The algorithm uses this data to infer decision boundaries which the vending machine then uses to classify\n",
        "its coins.\n",
        "\n",
        "(iii) A computer develops a strategy for playing Tic-Tac-Toe by playing repeatedly and adjusting its strategy by penalizing moves that eventually lead to losing.\n",
        "_____________________________________________________________________________________________________________________________________________\n",
        "\n",
        "[a] (i) Supervised Learning, (ii) Unsupervised Learning, (iii) Reinforcement Learning\n",
        "\n",
        "[b] (i) Supervised Learning, (ii) Not learning, (iii) Unsupervised Learning\n",
        "\n",
        "[c] (i) Not learning, (ii) Reinforcement Learning, (iii) Supervised Learning\n",
        "\n",
        "[d] (i) Not learning, (ii) Supervised Learning, (iii) Reinforcement Learning\n",
        "\n",
        "[e] (i) Supervised Learning, (ii) Reinforcement Learning, (iii) Unsupervised Learning"
      ]
    },
    {
      "cell_type": "markdown",
      "id": "9edadc1a-3050-40d4-a986-8710ba5b10a7",
      "metadata": {
        "id": "9edadc1a-3050-40d4-a986-8710ba5b10a7"
      },
      "source": [
        "#### Answer:\n",
        "D\n",
        "\n",
        "i) is not learning because the data and model are already determined for the vending machine, so it only needs to verify a coin meets the specifications of one of the types to identify it. It does not need to learn how to identify the coins because the information is given.\n",
        "\n",
        "ii) is supervised learning because an algorithm is provided with data on the coins, but the decision boundaries must still be inferred through learning. The targets are given explicitly and it is up to the algorithm to determine how they are specifically classified.\n",
        "\n",
        "iii) is reinforcement learning because no initial data is provided and the computer learns gradually through its own decisions, and whether those decisions result in a positive or negative outcome.\n"
      ]
    },
    {
      "cell_type": "markdown",
      "id": "a95d9662-4f65-4882-beb4-2482e41d5883",
      "metadata": {
        "id": "a95d9662-4f65-4882-beb4-2482e41d5883"
      },
      "source": [
        "#### 2. Which of the following problems are best suited for Machine Learning?\n",
        "\n",
        "(i) Classifying numbers into primes and non-primes.\n",
        "\n",
        "(ii) Detecting potential fraud in credit card charges.\n",
        "\n",
        "(iii) Determining the time it would take a falling object to hit the ground.\n",
        "\n",
        "(iv) Determining the optimal cycle for traffic lights in a busy intersection.\n",
        "\n",
        "_____________________________________________________________________________________________________________________________________________\n",
        "\n",
        "[a] (ii) and (iv)\n",
        "\n",
        "[b] (i) and (ii)\n",
        "\n",
        "[c] (i), (ii), and (iii)\n",
        "\n",
        "[d] (iii)\n",
        "\n",
        "[e] (i) and (iii)"
      ]
    },
    {
      "cell_type": "markdown",
      "id": "7c4e2169-1fcb-4dab-b0a9-ce3cd230e7d7",
      "metadata": {
        "id": "7c4e2169-1fcb-4dab-b0a9-ce3cd230e7d7"
      },
      "source": [
        "#### Answer:\n",
        "A\n",
        "\n",
        "i) would not be best suited for machine learning because there is a set mathematical method for determining whether a number is prime or non-prime, so learning is unnecessary. Also, prime numbers don’t follow many patterns (although I believe some potential patterns were recently discovered).\n",
        "\n",
        "ii) would be best suited for machine learning because it is not easy to pin down mathematically, but does tend to follow some pattern (or maybe better described as a break from some pattern of spending). Also, there is likely substantial data on an individual’s credit card spending.\n",
        "\n",
        "iii) would not be best suited for machine learning because there is a set mathematical method/formula for determining the time a falling object takes to hit the ground. No learning is necessary since it is trivial to pin down mathematically.\n",
        "\n",
        "iv) would be best suited for machine learning because it is not easy to pin down mathematically, but it would follow some pattern (it just may not be easy for a human to identify). Also, there would be substantial data about the traffic throughout the day at the intersection.\n"
      ]
    },
    {
      "cell_type": "markdown",
      "id": "d167ee60-e59b-4859-b22b-cb155fb00788",
      "metadata": {
        "id": "d167ee60-e59b-4859-b22b-cb155fb00788"
      },
      "source": [
        "#### 3. We have 2 opaque bags, each containing 2 balls. One bag has 2 black balls and the other has a black ball and a white ball. You pick a bag at random and then pick one of the balls in that bag at random. When you look at the ball, it is black. You now pick the second ball from that same bag. What is the probability that this ball is also black?\n",
        "\n",
        "[a] 1/4\n",
        "\n",
        "[b] 1/3\n",
        "\n",
        "[c] 1/2\n",
        "\n",
        "[d] 2/3\n",
        "\n",
        "[e] 3/4"
      ]
    },
    {
      "cell_type": "markdown",
      "id": "a08fa430-bad1-4768-92e8-08cfb96d6790",
      "metadata": {
        "id": "a08fa430-bad1-4768-92e8-08cfb96d6790"
      },
      "source": [
        "#### Answer:\n",
        "\n",
        "D\n",
        "\n",
        "P(black ball) = 1/2 * 1 + 1/2 * 1/2 = 3/4\n",
        "\n",
        "After 1 black ball is picked there is still 2 black balls and 1 white ball so…\n",
        "\n",
        "P(black ball) = 2/3\n",
        "\n",
        "Since both bags contain black balls, the fact that you picked a bag at random and picked out a black ball doesn’t change the probability of picking another black ball (you still don’t know what bag you have)."
      ]
    },
    {
      "cell_type": "markdown",
      "id": "38cc5c63-8b0f-4446-8ea8-19486f09ba47",
      "metadata": {
        "id": "38cc5c63-8b0f-4446-8ea8-19486f09ba47"
      },
      "source": [
        "#### Consider a sample of 10 marbles drawn from a bin containing red and green marbles. The probability that any marble we draw is red is µ = 0.55 (independently, with replacement). We address the probability of getting no red marbles (ν = 0) in the following cases:\n",
        "\n",
        "#### 4. We draw only one such sample. Compute the probability that ν = 0. The closest answer is (‘closest answer’ means: |your answer−given option| is closest to 0):\n",
        "\n",
        "[a] 7.331 × 10−6\n",
        "\n",
        "[b] 3.405 × 10−4\n",
        "\n",
        "[c] 0.289\n",
        "\n",
        "[d] 0.450\n",
        "\n",
        "[e] 0.550"
      ]
    },
    {
      "cell_type": "markdown",
      "id": "fcedb9f0-167e-4f98-914c-0c968b787f57",
      "metadata": {
        "id": "fcedb9f0-167e-4f98-914c-0c968b787f57"
      },
      "source": [
        "#### Answer:\n",
        "\n",
        "B\n",
        "\n",
        "Drawing no red marbles is equivalent to drawing 10 green marbles and P(green) = 1 - P(red) = 1 - 0.55 = 0.45\n"
      ]
    },
    {
      "cell_type": "code",
      "execution_count": null,
      "id": "0d1a36cc-d576-43a4-89f5-006653b13423",
      "metadata": {
        "id": "0d1a36cc-d576-43a4-89f5-006653b13423",
        "outputId": "5ed632ea-c545-43e9-d956-0b2cbc5c917e"
      },
      "outputs": [
        {
          "data": {
            "text/plain": [
              "0.00034050628916015635"
            ]
          },
          "execution_count": 1,
          "metadata": {},
          "output_type": "execute_result"
        }
      ],
      "source": [
        "p_green = 0.45\n",
        "p_green10 = p_green ** 10\n",
        "p_green10"
      ]
    },
    {
      "cell_type": "markdown",
      "id": "458ee476-2ab1-4e71-8d0a-a947bb7da865",
      "metadata": {
        "id": "458ee476-2ab1-4e71-8d0a-a947bb7da865"
      },
      "source": [
        "~3.405 x 10^-4"
      ]
    },
    {
      "cell_type": "markdown",
      "id": "aeed3640-26ee-4a2e-92c9-9ff1001a70d1",
      "metadata": {
        "id": "aeed3640-26ee-4a2e-92c9-9ff1001a70d1"
      },
      "source": [
        "#### 5. We draw 1,000 independent samples. Compute the probability that (at least) one of the samples has ν = 0. The closest answer is:\n",
        "\n",
        "[a] 7.331 × 10−6\n",
        "\n",
        "[b] 3.405 × 10−4\n",
        "\n",
        "[c] 0.289\n",
        "\n",
        "[d] 0.450\n",
        "\n",
        "[e] 0.550"
      ]
    },
    {
      "cell_type": "markdown",
      "id": "97939eeb-a1a0-492a-87f7-42f492754180",
      "metadata": {
        "id": "97939eeb-a1a0-492a-87f7-42f492754180"
      },
      "source": [
        "#### Answer:\n",
        "\n",
        "C\n",
        "\n",
        "P(1+ sample with nu = 0) = 1 - P(no samples with nu = 0)"
      ]
    },
    {
      "cell_type": "code",
      "execution_count": null,
      "id": "0a30d6b8-3513-4d53-b9f1-4c1b7f1ac74c",
      "metadata": {
        "id": "0a30d6b8-3513-4d53-b9f1-4c1b7f1ac74c",
        "outputId": "1a53a402-1730-4f2b-d427-fea1ac9bedf5"
      },
      "outputs": [
        {
          "data": {
            "text/plain": [
              "0.28863119784980995"
            ]
          },
          "execution_count": 5,
          "metadata": {},
          "output_type": "execute_result"
        }
      ],
      "source": [
        "p_not_green10 = 1 - p_green10\n",
        "p_no_nu0 = p_not_green10 ** 1000\n",
        "p_one_plus_nu0 = 1 - p_no_nu0\n",
        "p_one_plus_nu0"
      ]
    },
    {
      "cell_type": "markdown",
      "id": "62f8e030-aa5c-4ed3-a0c1-86319bc8b603",
      "metadata": {
        "id": "62f8e030-aa5c-4ed3-a0c1-86319bc8b603"
      },
      "source": [
        "~0.289"
      ]
    },
    {
      "cell_type": "markdown",
      "id": "50f506e8-c789-4a0d-b69d-e97ef637a9d0",
      "metadata": {
        "id": "50f506e8-c789-4a0d-b69d-e97ef637a9d0"
      },
      "source": [
        "#### 6. Which hypothesis g agrees the most with the possible target functions in terms of the above score?\n",
        "\n",
        "[a] g returns 1 for all three points.\n",
        "\n",
        "[b] g returns 0 for all three points.\n",
        "\n",
        "[c] g is the XOR function applied to x, i.e., if the number of 1s in x is odd, g returns 1; if it is even, g returns 0.\n",
        "\n",
        "[d] g returns the opposite of the XOR function: if the number of 1s is odd, it returns 0, otherwise returns 1.\n",
        "\n",
        "[e] They are all equivalent (equal scores for g in [a] through [d])."
      ]
    },
    {
      "cell_type": "markdown",
      "id": "f6144705-9285-47f7-a475-b6f5e00753b8",
      "metadata": {
        "id": "f6144705-9285-47f7-a475-b6f5e00753b8"
      },
      "source": [
        "#### Answer:\n",
        "\n",
        "E\n",
        "\n",
        "x1 = 000\n",
        "\n",
        "x2 = 001\n",
        "\n",
        "x3 = 010\n",
        "\n",
        "x4 = 011\n",
        "\n",
        "x5 = 100\n",
        "\n",
        "x6 = 101\n",
        "\n",
        "x7 = 110\n",
        "\n",
        "x8 = 111"
      ]
    },
    {
      "cell_type": "code",
      "execution_count": null,
      "id": "e48ed9ea-3586-4e7d-8ed5-c613430699b3",
      "metadata": {
        "id": "e48ed9ea-3586-4e7d-8ed5-c613430699b3"
      },
      "outputs": [],
      "source": [
        "def get_score(agree3, agree2, agree1):\n",
        "    return agree3 * 3 + agree2 * 2 + agree1 * 1"
      ]
    },
    {
      "cell_type": "code",
      "execution_count": null,
      "id": "514a14ef-fc8b-42e1-8c61-a61a83d66806",
      "metadata": {
        "id": "514a14ef-fc8b-42e1-8c61-a61a83d66806",
        "outputId": "d5b6f028-7554-491c-810b-38b45f13aed8"
      },
      "outputs": [
        {
          "data": {
            "text/plain": [
              "12"
            ]
          },
          "execution_count": 8,
          "metadata": {},
          "output_type": "execute_result"
        }
      ],
      "source": [
        "# a) g(x6, x7, x8) = (1, 1, 1)\n",
        "get_score(1, 3, 3)"
      ]
    },
    {
      "cell_type": "code",
      "execution_count": null,
      "id": "07394411-f263-4ddf-8b9d-db7e3a18fe94",
      "metadata": {
        "id": "07394411-f263-4ddf-8b9d-db7e3a18fe94",
        "outputId": "967f6db5-bbc6-4bc8-bf0f-bfa9e5a8e03f"
      },
      "outputs": [
        {
          "data": {
            "text/plain": [
              "12"
            ]
          },
          "execution_count": 9,
          "metadata": {},
          "output_type": "execute_result"
        }
      ],
      "source": [
        "# b) g(x6, x7, x8) = (0, 0, 0)\n",
        "get_score(1, 3, 3)"
      ]
    },
    {
      "cell_type": "code",
      "execution_count": null,
      "id": "e5bc4032-6644-49cb-ab35-109139a12ef3",
      "metadata": {
        "id": "e5bc4032-6644-49cb-ab35-109139a12ef3",
        "outputId": "042a0f97-47d9-405a-eb3f-5c78997a010c"
      },
      "outputs": [
        {
          "data": {
            "text/plain": [
              "12"
            ]
          },
          "execution_count": 10,
          "metadata": {},
          "output_type": "execute_result"
        }
      ],
      "source": [
        "# c) g(x6, x7, x8) = (0, 0, 1)\n",
        "get_score(1, 3, 3)"
      ]
    },
    {
      "cell_type": "code",
      "execution_count": null,
      "id": "08788456-5bd0-4f83-b4c4-27b905f12839",
      "metadata": {
        "id": "08788456-5bd0-4f83-b4c4-27b905f12839",
        "outputId": "9b56849f-678c-4cdc-c243-a329aac7f9fd"
      },
      "outputs": [
        {
          "data": {
            "text/plain": [
              "12"
            ]
          },
          "execution_count": 13,
          "metadata": {},
          "output_type": "execute_result"
        }
      ],
      "source": [
        "# d) g(x6, x7, x8) = (1, 1, 0)\n",
        "get_score(1, 3, 3)"
      ]
    },
    {
      "cell_type": "markdown",
      "id": "206841f2-2b27-4746-9fc9-76cc1015966f",
      "metadata": {
        "id": "206841f2-2b27-4746-9fc9-76cc1015966f"
      },
      "source": [
        "a = b = c = d = 12"
      ]
    },
    {
      "cell_type": "markdown",
      "id": "60967e94-943e-48ab-a6f3-e99786457321",
      "metadata": {
        "id": "60967e94-943e-48ab-a6f3-e99786457321"
      },
      "source": [
        "#### 7. Take N = 10. How many iterations does it take on average for the PLA to converge for N = 10 training points? Pick the value closest to your results (again, ‘closest’ means: |your answer − given option| is closest to 0).\n",
        "\n",
        "[a] 1\n",
        "\n",
        "[b] 15\n",
        "\n",
        "[c] 300\n",
        "\n",
        "[d] 5000\n",
        "\n",
        "[e] 10000"
      ]
    },
    {
      "cell_type": "markdown",
      "id": "6b1337c1-caa7-4890-809a-2ca9612ecdad",
      "metadata": {
        "id": "6b1337c1-caa7-4890-809a-2ca9612ecdad"
      },
      "source": [
        "#### Answer:\n",
        "\n",
        "B"
      ]
    },
    {
      "cell_type": "code",
      "execution_count": null,
      "id": "e364693f-1531-40a3-81af-0524d635a491",
      "metadata": {
        "id": "e364693f-1531-40a3-81af-0524d635a491",
        "outputId": "d2f0c45a-c679-48df-8d4a-445cfe4eef6d"
      },
      "outputs": [
        {
          "data": {
            "image/png": "[encoded data removed]",
            "text/plain": [
              "<Figure size 640x480 with 1 Axes>"
            ]
          },
          "metadata": {},
          "output_type": "display_data"
        }
      ],
      "source": [
        "import numpy as np\n",
        "import matplotlib.pyplot as plt\n",
        "import random\n",
        "\n",
        "p1 = np.random.uniform(-1, 1, 2)\n",
        "p2 = np.random.uniform(-1, 1, 2)\n",
        "m = (p2[1] - p1[1])/(p2[0] - p1[0])\n",
        "b = p1[1] - m * p1[0]\n",
        "\n",
        "x = np.random.uniform(-1, 1, (10, 2))\n",
        "\n",
        "plt.plot(p1[0], p1[1], 'ro')\n",
        "plt.plot(p2[0], p2[1], 'ro')\n",
        "for p in x:\n",
        "    plt.plot(p[0], p[1], 'bo')\n",
        "x_axis = np.linspace(-1,1, 100)\n",
        "y_axis = m * (x_axis) + b\n",
        "plt.plot(x_axis, y_axis, label='f(x)')\n",
        "plt.xlim(-1, 1)\n",
        "plt.ylim(-1, 1)\n",
        "plt.show()"
      ]
    },
    {
      "cell_type": "code",
      "execution_count": null,
      "id": "d4c1cbd2-2089-4f26-aa84-ded8ab838927",
      "metadata": {
        "id": "d4c1cbd2-2089-4f26-aa84-ded8ab838927",
        "outputId": "f4ccd088-4105-40aa-d674-e86f098424d1"
      },
      "outputs": [
        {
          "name": "stdout",
          "output_type": "stream",
          "text": [
            "Average iterations for PLA to converge for N=10 training points over 1000 runs is 10.131\n"
          ]
        }
      ],
      "source": [
        "def h(point, weights):\n",
        "    if np.dot(np.transpose(weights), point) < 0:\n",
        "        return -1\n",
        "    elif np.dot(np.transpose(weights), point) > 0:\n",
        "        return 1\n",
        "    else:\n",
        "        return 0\n",
        "\n",
        "def y(p, m, b):\n",
        "    if p[2] >= (m * p[1] + b):\n",
        "        return 1\n",
        "    else:\n",
        "        return -1\n",
        "\n",
        "def perceptron(m, b, w, x_bias):\n",
        "\n",
        "    def converges():\n",
        "        for point in x_bias:\n",
        "            if h(point, w) != y(point, m, b):\n",
        "                return False\n",
        "        return True\n",
        "\n",
        "    runs = 0\n",
        "    while not converges():\n",
        "        runs += 1\n",
        "\n",
        "        correct = []\n",
        "        incorrect = []\n",
        "\n",
        "        for i, point in enumerate(x_bias):\n",
        "            if h(point, w) == y(point, m, b):\n",
        "                correct.append(i)\n",
        "            else:\n",
        "                incorrect.append(i)\n",
        "\n",
        "        update = random.choice(incorrect)\n",
        "\n",
        "        for i, weight in enumerate(w):\n",
        "            w[i] = w[i] + y(x_bias[update], m, b) * x_bias[update][i]\n",
        "    return runs\n",
        "\n",
        "total_runs = []\n",
        "N = 10\n",
        "\n",
        "for _ in range(1000):\n",
        "    p1 = np.random.uniform(-1, 1, 2)\n",
        "    p2 = np.random.uniform(-1, 1, 2)\n",
        "    m = (p2[1] - p1[1])/(p2[0] - p1[0])\n",
        "    b = p1[1] - m * p1[0]\n",
        "\n",
        "    x = np.random.uniform(-1, 1, (N, 2))\n",
        "    w = np.zeros(3)\n",
        "    x_bias = np.insert(x, 0, 1, axis=1)\n",
        "\n",
        "    total_runs.append(perceptron(m, b, w, x_bias))\n",
        "\n",
        "print(f'Average iterations for PLA to converge for N={N} training points over 1000 runs is {sum(total_runs) / 1000}')"
      ]
    },
    {
      "cell_type": "markdown",
      "id": "d83119cf-30b4-4332-b8f6-6fae27306d3b",
      "metadata": {
        "id": "d83119cf-30b4-4332-b8f6-6fae27306d3b"
      },
      "source": [
        "~15"
      ]
    },
    {
      "cell_type": "markdown",
      "id": "9d613824-2801-4899-9584-fc77abd8a90d",
      "metadata": {
        "id": "9d613824-2801-4899-9584-fc77abd8a90d"
      },
      "source": [
        "#### 8. Which of the following is closest to P[f(x) != g(x)] for N = 10?\n",
        "\n",
        "[a] 0.001\n",
        "\n",
        "[b] 0.01\n",
        "\n",
        "[c] 0.1\n",
        "\n",
        "[d] 0.5\n",
        "\n",
        "[e] 0.8"
      ]
    },
    {
      "cell_type": "markdown",
      "id": "487c0ef2-7851-4759-ac39-1c00e471eebc",
      "metadata": {
        "id": "487c0ef2-7851-4759-ac39-1c00e471eebc"
      },
      "source": [
        "#### Answer:\n",
        "\n",
        "C"
      ]
    },
    {
      "cell_type": "code",
      "execution_count": null,
      "id": "9d95f2ed-1d39-46f5-9013-169615452053",
      "metadata": {
        "id": "9d95f2ed-1d39-46f5-9013-169615452053",
        "outputId": "7784b3b3-cb11-48c9-e56d-7b83c1382554"
      },
      "outputs": [
        {
          "data": {
            "text/plain": [
              "0.098"
            ]
          },
          "execution_count": 81,
          "metadata": {},
          "output_type": "execute_result"
        }
      ],
      "source": [
        "misclassified = 0\n",
        "\n",
        "for _ in range(1000):\n",
        "    p = np.random.uniform(-1, 1, 2)\n",
        "    p_bias = np.insert(p, 0, 1)\n",
        "    if (h(p_bias, w) != y(p_bias, m, b)):\n",
        "        misclassified += 1\n",
        "\n",
        "misclassified / 1000"
      ]
    },
    {
      "cell_type": "markdown",
      "id": "851be529-f1e1-4271-a85d-0c35ecaf989c",
      "metadata": {
        "id": "851be529-f1e1-4271-a85d-0c35ecaf989c"
      },
      "source": [
        "~0.1"
      ]
    },
    {
      "cell_type": "markdown",
      "id": "c6268509-99d8-4d8b-8841-039f2e983001",
      "metadata": {
        "id": "c6268509-99d8-4d8b-8841-039f2e983001"
      },
      "source": [
        "#### 9. Now, try N = 100. How many iterations does it take on average for the PLA to converge for N = 100 training points? Pick the value closest to your results.\n",
        "\n",
        "[a] 50\n",
        "\n",
        "[b] 100\n",
        "\n",
        "[c] 500\n",
        "\n",
        "[d] 1000\n",
        "\n",
        "[e] 5000"
      ]
    },
    {
      "cell_type": "markdown",
      "id": "c3426fef-7775-4316-b1e3-8f2c88454819",
      "metadata": {
        "id": "c3426fef-7775-4316-b1e3-8f2c88454819"
      },
      "source": [
        "#### Answer:\n",
        "\n",
        "B"
      ]
    },
    {
      "cell_type": "code",
      "execution_count": null,
      "id": "d354e2f1-94ea-41fb-ab7e-40dad8e5c25d",
      "metadata": {
        "id": "d354e2f1-94ea-41fb-ab7e-40dad8e5c25d",
        "outputId": "e73dc52d-3b10-45ea-86c3-f7ccfd237d9e"
      },
      "outputs": [
        {
          "name": "stdout",
          "output_type": "stream",
          "text": [
            "Average iterations for PLA to converge for N=100 training points over 1000 runs is 168.974\n"
          ]
        }
      ],
      "source": [
        "total_runs = []\n",
        "N = 100\n",
        "\n",
        "for _ in range(1000):\n",
        "    p1 = np.random.uniform(-1, 1, 2)\n",
        "    p2 = np.random.uniform(-1, 1, 2)\n",
        "    m = (p2[1] - p1[1])/(p2[0] - p1[0])\n",
        "    b = p1[1] - m * p1[0]\n",
        "\n",
        "    x = np.random.uniform(-1, 1, (N, 2))\n",
        "    w = np.zeros(3)\n",
        "    x_bias = np.insert(x, 0, 1, axis=1)\n",
        "\n",
        "    total_runs.append(perceptron(m, b, w, x_bias))\n",
        "\n",
        "print(f'Average iterations for PLA to converge for N={N} training points over 1000 runs is {sum(total_runs) / 1000}')"
      ]
    },
    {
      "cell_type": "markdown",
      "id": "d7551e11-c1c1-4b2f-9e0e-b87f2794104b",
      "metadata": {
        "id": "d7551e11-c1c1-4b2f-9e0e-b87f2794104b"
      },
      "source": [
        "#### 10. Which of the following is closest to P[f(x) != g(x)] for N = 100?\n",
        "\n",
        "[a] 0.001\n",
        "\n",
        "[b] 0.01\n",
        "\n",
        "[c] 0.1\n",
        "\n",
        "[d] 0.5\n",
        "\n",
        "[e] 0.8"
      ]
    },
    {
      "cell_type": "markdown",
      "id": "66a6c02b-8a1a-4e9e-ae8c-75e9b38c091a",
      "metadata": {
        "id": "66a6c02b-8a1a-4e9e-ae8c-75e9b38c091a"
      },
      "source": [
        "#### Answer:\n",
        "\n",
        "B"
      ]
    },
    {
      "cell_type": "code",
      "execution_count": null,
      "id": "4b79e66f-573d-4bb5-b151-485f976fc436",
      "metadata": {
        "id": "4b79e66f-573d-4bb5-b151-485f976fc436",
        "outputId": "a501ab7d-6500-4a3d-e99f-3c289c9f1248"
      },
      "outputs": [
        {
          "data": {
            "text/plain": [
              "0.018"
            ]
          },
          "execution_count": 84,
          "metadata": {},
          "output_type": "execute_result"
        }
      ],
      "source": [
        "misclassified = 0\n",
        "\n",
        "for _ in range(1000):\n",
        "    p = np.random.uniform(-1, 1, 2)\n",
        "    p_bias = np.insert(p, 0, 1)\n",
        "    if (h(p_bias, w) != y(p_bias, m, b)):\n",
        "        misclassified += 1\n",
        "\n",
        "misclassified / 1000"
      ]
    },
    {
      "cell_type": "markdown",
      "id": "ccba8f1c-8bbf-4286-9ef5-1e41c04544ca",
      "metadata": {
        "id": "ccba8f1c-8bbf-4286-9ef5-1e41c04544ca"
      },
      "source": [
        "~0.01"
      ]
    }
  ],
  "metadata": {
    "kernelspec": {
      "display_name": "Python 3 (ipykernel)",
      "language": "python",
      "name": "python3"
    },
    "language_info": {
      "codemirror_mode": {
        "name": "ipython",
        "version": 3
      },
      "file_extension": ".py",
      "mimetype": "text/x-python",
      "name": "python",
      "nbconvert_exporter": "python",
      "pygments_lexer": "ipython3",
      "version": "3.11.4"
    },
    "colab": {
      "provenance": [],
      "include_colab_link": true
    }
  },
  "nbformat": 4,
  "nbformat_minor": 5
}